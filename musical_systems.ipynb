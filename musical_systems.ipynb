{
 "nbformat": 4,
 "nbformat_minor": 2,
 "metadata": {
  "language_info": {
   "name": "python",
   "codemirror_mode": {
    "name": "ipython",
    "version": 3
   },
   "version": "3.7.3-final"
  },
  "orig_nbformat": 2,
  "file_extension": ".py",
  "mimetype": "text/x-python",
  "name": "python",
  "npconvert_exporter": "python",
  "pygments_lexer": "ipython3",
  "version": 3,
  "kernelspec": {
   "name": "python37364bitanaconda3virtualenve0beec8455a449faa64632dc843014f3",
   "display_name": "Python 3.7.3 64-bit ('anaconda3': virtualenv)"
  }
 },
 "cells": [
  {
   "cell_type": "code",
   "execution_count": 1,
   "metadata": {},
   "outputs": [],
   "source": [
    "from freq_table import *"
   ]
  },
  {
   "cell_type": "code",
   "execution_count": 2,
   "metadata": {},
   "outputs": [
    {
     "output_type": "stream",
     "name": "stdout",
     "text": "440.0\n466.16\n"
    }
   ],
   "source": [
    "print(pitch_to_frequency.get('A')[4])\n",
    "print(pitch_to_frequency.get('A#')[4])"
   ]
  },
  {
   "cell_type": "code",
   "execution_count": 3,
   "metadata": {},
   "outputs": [],
   "source": [
    "unknown_pitch = 440.0 * (2**(1/12))"
   ]
  },
  {
   "cell_type": "code",
   "execution_count": 11,
   "metadata": {},
   "outputs": [
    {
     "output_type": "execute_result",
     "data": {
      "text/plain": "466.1637615180899"
     },
     "metadata": {},
     "execution_count": 11
    }
   ],
   "source": [
    "pitch_to_frequency.get('A')[4] * interval_systems.get('semi_tones')"
   ]
  },
  {
   "cell_type": "code",
   "execution_count": 5,
   "metadata": {},
   "outputs": [
    {
     "output_type": "execute_result",
     "data": {
      "text/plain": "'A#4'"
     },
     "metadata": {},
     "execution_count": 5
    }
   ],
   "source": [
    "closest_pitch(unknown_pitch)"
   ]
  },
  {
   "cell_type": "code",
   "execution_count": 6,
   "metadata": {},
   "outputs": [
    {
     "output_type": "execute_result",
     "data": {
      "text/plain": "'C5'"
     },
     "metadata": {},
     "execution_count": 6
    }
   ],
   "source": [
    "pitch = 440.0 * (2**(1/12))**3\n",
    "closest_pitch(pitch)"
   ]
  },
  {
   "cell_type": "code",
   "execution_count": 7,
   "metadata": {},
   "outputs": [
    {
     "output_type": "execute_result",
     "data": {
      "text/plain": "1.8877486253633868"
     },
     "metadata": {},
     "execution_count": 7
    }
   ],
   "source": [
    "(2**11)**(1/12)"
   ]
  },
  {
   "cell_type": "code",
   "execution_count": 8,
   "metadata": {},
   "outputs": [],
   "source": [
    "semitone_intervals = {'m2': 2**(1/12),\n",
    "             'M2': (2**2)**(1/12),\n",
    "             'm3': (2**3)**(1/12),\n",
    "             'M3': (2**4)**(1/12),\n",
    "             'P4': (2**5)**(1/12),\n",
    "             'd5': (2**6)**(1/12),\n",
    "             'P5': (2**7)**(1/12),\n",
    "             'm6': (2**8)**(1/12),\n",
    "             'M6': (2**9)**(1/12),\n",
    "             'm7': (2**10)**(1/12),\n",
    "             'M7': (2**11)**(1/12)\n",
    "             }"
   ]
  },
  {
   "cell_type": "code",
   "execution_count": null,
   "metadata": {},
   "outputs": [],
   "source": [
    "quartertone_intervals ="
   ]
  },
  {
   "cell_type": "code",
   "execution_count": 9,
   "metadata": {},
   "outputs": [],
   "source": [
    "interval_systems = {'semi_tones': 2**(1/12),\n",
    "                    'tri_tones': 2**(1/18),\n",
    "                    'quarter_tones': 2**(1/24),\n",
    "                    'sixth_tones': 2**(1/36),   \n",
    "                    'eigth_tones': 2**(1/48),\n",
    "                    'twelevth_tones': 2**(1/72),\n",
    "                    'sixteenth_tones': 2**(1/96),\n",
    "                    'twenty_fourth_tones': 2**(1/144)\n",
    "}"
   ]
  },
  {
   "cell_type": "code",
   "execution_count": 10,
   "metadata": {},
   "outputs": [
    {
     "output_type": "execute_result",
     "data": {
      "text/plain": "1.0594630943592953"
     },
     "metadata": {},
     "execution_count": 10
    }
   ],
   "source": [
    "semitone_intervals.get('m2')"
   ]
  },
  {
   "cell_type": "code",
   "execution_count": 12,
   "metadata": {},
   "outputs": [],
   "source": [
    "def make_system(hz, system_type, system_size):\n",
    "    system = {}\n",
    "    freq_position = 0\n",
    "    for p in system_size:\n",
    "        freq = hz * (system_type)**p\n",
    "        system['freq_{}'.format(freq_position)] = round(freq, 2)\n",
    "        freq_position += 1\n",
    "    return system\n",
    ""
   ]
  },
  {
   "cell_type": "code",
   "execution_count": 13,
   "metadata": {},
   "outputs": [],
   "source": [
    "A_440_144_octave = make_system(pitch_to_frequency.get('A')[4], interval_systems.get('twenty_fourth_tones'), range(0,144))"
   ]
  },
  {
   "cell_type": "code",
   "execution_count": 14,
   "metadata": {},
   "outputs": [
    {
     "output_type": "execute_result",
     "data": {
      "text/plain": "{'freq_0': 440.0,\n 'freq_1': 442.12,\n 'freq_2': 444.26,\n 'freq_3': 446.4,\n 'freq_4': 448.55,\n 'freq_5': 450.72,\n 'freq_6': 452.89,\n 'freq_7': 455.08,\n 'freq_8': 457.27,\n 'freq_9': 459.48,\n 'freq_10': 461.7,\n 'freq_11': 463.93,\n 'freq_12': 466.16,\n 'freq_13': 468.41,\n 'freq_14': 470.67,\n 'freq_15': 472.94,\n 'freq_16': 475.23,\n 'freq_17': 477.52,\n 'freq_18': 479.82,\n 'freq_19': 482.14,\n 'freq_20': 484.46,\n 'freq_21': 486.8,\n 'freq_22': 489.15,\n 'freq_23': 491.51,\n 'freq_24': 493.88,\n 'freq_25': 496.27,\n 'freq_26': 498.66,\n 'freq_27': 501.07,\n 'freq_28': 503.48,\n 'freq_29': 505.91,\n 'freq_30': 508.36,\n 'freq_31': 510.81,\n 'freq_32': 513.27,\n 'freq_33': 515.75,\n 'freq_34': 518.24,\n 'freq_35': 520.74,\n 'freq_36': 523.25,\n 'freq_37': 525.78,\n 'freq_38': 528.31,\n 'freq_39': 530.86,\n 'freq_40': 533.42,\n 'freq_41': 536.0,\n 'freq_42': 538.58,\n 'freq_43': 541.18,\n 'freq_44': 543.79,\n 'freq_45': 546.42,\n 'freq_46': 549.05,\n 'freq_47': 551.7,\n 'freq_48': 554.37,\n 'freq_49': 557.04,\n 'freq_50': 559.73,\n 'freq_51': 562.43,\n 'freq_52': 565.14,\n 'freq_53': 567.87,\n 'freq_54': 570.61,\n 'freq_55': 573.36,\n 'freq_56': 576.13,\n 'freq_57': 578.91,\n 'freq_58': 581.7,\n 'freq_59': 584.51,\n 'freq_60': 587.33,\n 'freq_61': 590.16,\n 'freq_62': 593.01,\n 'freq_63': 595.87,\n 'freq_64': 598.75,\n 'freq_65': 601.64,\n 'freq_66': 604.54,\n 'freq_67': 607.46,\n 'freq_68': 610.39,\n 'freq_69': 613.33,\n 'freq_70': 616.29,\n 'freq_71': 619.27,\n 'freq_72': 622.25,\n 'freq_73': 625.26,\n 'freq_74': 628.27,\n 'freq_75': 631.3,\n 'freq_76': 634.35,\n 'freq_77': 637.41,\n 'freq_78': 640.49,\n 'freq_79': 643.58,\n 'freq_80': 646.68,\n 'freq_81': 649.8,\n 'freq_82': 652.94,\n 'freq_83': 656.09,\n 'freq_84': 659.26,\n 'freq_85': 662.44,\n 'freq_86': 665.63,\n 'freq_87': 668.84,\n 'freq_88': 672.07,\n 'freq_89': 675.31,\n 'freq_90': 678.57,\n 'freq_91': 681.85,\n 'freq_92': 685.14,\n 'freq_93': 688.44,\n 'freq_94': 691.76,\n 'freq_95': 695.1,\n 'freq_96': 698.46,\n 'freq_97': 701.83,\n 'freq_98': 705.21,\n 'freq_99': 708.62,\n 'freq_100': 712.03,\n 'freq_101': 715.47,\n 'freq_102': 718.92,\n 'freq_103': 722.39,\n 'freq_104': 725.88,\n 'freq_105': 729.38,\n 'freq_106': 732.9,\n 'freq_107': 736.44,\n 'freq_108': 739.99,\n 'freq_109': 743.56,\n 'freq_110': 747.15,\n 'freq_111': 750.75,\n 'freq_112': 754.37,\n 'freq_113': 758.01,\n 'freq_114': 761.67,\n 'freq_115': 765.35,\n 'freq_116': 769.04,\n 'freq_117': 772.75,\n 'freq_118': 776.48,\n 'freq_119': 780.23,\n 'freq_120': 783.99,\n 'freq_121': 787.77,\n 'freq_122': 791.57,\n 'freq_123': 795.39,\n 'freq_124': 799.23,\n 'freq_125': 803.09,\n 'freq_126': 806.96,\n 'freq_127': 810.86,\n 'freq_128': 814.77,\n 'freq_129': 818.7,\n 'freq_130': 822.65,\n 'freq_131': 826.62,\n 'freq_132': 830.61,\n 'freq_133': 834.62,\n 'freq_134': 838.64,\n 'freq_135': 842.69,\n 'freq_136': 846.76,\n 'freq_137': 850.84,\n 'freq_138': 854.95,\n 'freq_139': 859.07,\n 'freq_140': 863.22,\n 'freq_141': 867.38,\n 'freq_142': 871.57,\n 'freq_143': 875.77}"
     },
     "metadata": {},
     "execution_count": 14
    }
   ],
   "source": [
    "A_440_144_octave"
   ]
  },
  {
   "cell_type": "code",
   "execution_count": 15,
   "metadata": {},
   "outputs": [
    {
     "output_type": "stream",
     "name": "stdout",
     "text": "A4\nA4\nA4\nA4\nA4\nA4\nA4\nA#4\nA#4\nA#4\nA#4\nA#4\nA#4\nA#4\nA#4\nA#4\nA#4\nA#4\nA#4\nB4\nB4\nB4\nB4\nB4\nB4\nB4\nB4\nB4\nB4\nB4\nC5\nC5\nC5\nC5\nC5\nC5\nC5\nC5\nC5\nC5\nC5\nC5\nC5\nC#5\nC#5\nC#5\nC#5\nC#5\nC#5\nC#5\nC#5\nC#5\nC#5\nC#5\nD5\nD5\nD5\nD5\nD5\nD5\nD5\nD5\nD5\nD5\nD5\nD5\nD#5\nD#5\nD#5\nD#5\nD#5\nD#5\nD#5\nD#5\nD#5\nD#5\nD#5\nD#5\nE5\nE5\nE5\nE5\nE5\nE5\nE5\nE5\nE5\nE5\nE5\nE5\nE5\nF5\nF5\nF5\nF5\nF5\nF5\nF5\nF5\nF5\nF5\nF5\nF5\nF#5\nF#5\nF#5\nF#5\nF#5\nF#5\nF#5\nF#5\nF#5\nF#5\nF#5\nF#5\nG5\nG5\nG5\nG5\nG5\nG5\nG5\nG5\nG5\nG5\nG5\nG5\nG#5\nG#5\nG#5\nG#5\nG#5\nG#5\nG#5\nG#5\nG#5\nG#5\nG#5\nA5\nA5\nA5\nA5\nA5\nA5\n"
    }
   ],
   "source": [
    "for k,v in A_440_144_octave.items():\n",
    "    print(closest_pitch(v))"
   ]
  },
  {
   "cell_type": "code",
   "execution_count": 26,
   "metadata": {},
   "outputs": [
    {
     "output_type": "stream",
     "name": "stdout",
     "text": "given hz  484.46\nclosest pitch is: B4\ncent offset from B4 is:  -33.34\n"
    }
   ],
   "source": [
    "print('given hz ', A_440_144_octave.get('freq_20'))\n",
    "f = closest_pitch(A_440_144_octave.get('freq_20'))\n",
    "print('closest pitch is: ' + f)\n",
    "diff = find_cent_diff(A_440_144_octave.get('freq_20'),pitch_to_frequency.get(f[0])[int(f[1])])\n",
    "print('cent offset from '+ f + ' is: ', diff)"
   ]
  },
  {
   "cell_type": "code",
   "execution_count": 17,
   "metadata": {},
   "outputs": [],
   "source": [
    "from math import log2\n",
    "import numpy as np "
   ]
  },
  {
   "cell_type": "code",
   "execution_count": 18,
   "metadata": {},
   "outputs": [
    {
     "output_type": "execute_result",
     "data": {
      "text/plain": "83.31"
     },
     "metadata": {},
     "execution_count": 18
    }
   ],
   "source": [
    "# find cents difference\n",
    "round(1200 * log2(A_440_144_octave.get('freq_20') / A_440_144_octave.get('freq_10')),2)"
   ]
  },
  {
   "cell_type": "code",
   "execution_count": 19,
   "metadata": {},
   "outputs": [],
   "source": [
    "def find_cent_diff(freq_2, freq_1):\n",
    "    cents = round(1200 * log2(freq_2/freq_1),2)\n",
    "    return cents"
   ]
  },
  {
   "cell_type": "code",
   "execution_count": 20,
   "metadata": {},
   "outputs": [
    {
     "output_type": "execute_result",
     "data": {
      "text/plain": "83.31"
     },
     "metadata": {},
     "execution_count": 20
    }
   ],
   "source": [
    "find_cent_diff(A_440_144_octave.get('freq_20'), A_440_144_octave.get('freq_10'))"
   ]
  },
  {
   "cell_type": "code",
   "execution_count": 21,
   "metadata": {},
   "outputs": [
    {
     "output_type": "execute_result",
     "data": {
      "text/plain": "484.46"
     },
     "metadata": {},
     "execution_count": 21
    }
   ],
   "source": [
    "A_440_144_octave.get('freq_20')"
   ]
  },
  {
   "cell_type": "code",
   "execution_count": 22,
   "metadata": {},
   "outputs": [
    {
     "output_type": "execute_result",
     "data": {
      "text/plain": "461.7"
     },
     "metadata": {},
     "execution_count": 22
    }
   ],
   "source": [
    "A_440_144_octave.get('freq_10')"
   ]
  },
  {
   "cell_type": "code",
   "execution_count": 23,
   "metadata": {},
   "outputs": [
    {
     "output_type": "execute_result",
     "data": {
      "text/plain": "484.46"
     },
     "metadata": {},
     "execution_count": 23
    }
   ],
   "source": [
    "# transpose cents up\n",
    "round(461.7 * 2**(round(83.30618446362892,2)/1200),2)"
   ]
  },
  {
   "cell_type": "code",
   "execution_count": 24,
   "metadata": {},
   "outputs": [
    {
     "output_type": "execute_result",
     "data": {
      "text/plain": "461.7"
     },
     "metadata": {},
     "execution_count": 24
    }
   ],
   "source": [
    "# transpose cents down\n",
    "round(484.46 * 2**(round(-83.30618446362892,2)/1200),2)"
   ]
  },
  {
   "cell_type": "code",
   "execution_count": 25,
   "metadata": {},
   "outputs": [
    {
     "output_type": "stream",
     "name": "stdout",
     "text": "given hz:  484.46\nclosest pitch is: B4\ncent offset from B4 is:  -33.34\n"
    }
   ],
   "source": [
    "# find closest pitch and cent offset\n",
    "print('given hz: ', A_440_144_octave.get('freq_20'))\n",
    "f = closest_pitch(A_440_144_octave.get('freq_20'))\n",
    "print('closest pitch is: ' + f)\n",
    "diff = find_cent_diff(A_440_144_octave.get('freq_20'),pitch_to_frequency.get(f[0])[int(f[1])])\n",
    "print('cent offset from '+ f + ' is: ', diff)"
   ]
  },
  {
   "cell_type": "code",
   "execution_count": 57,
   "metadata": {},
   "outputs": [],
   "source": [
    "def offset_from_closest_pitch(freq):\n",
    "    print('given hz: ', freq)\n",
    "    f = closest_pitch(freq)\n",
    "    print('closest pitch is: ' + f)\n",
    "    if len(f) == 2:\n",
    "        diff = find_cent_diff(freq ,pitch_to_frequency.get(f[0])[int(f[1])])\n",
    "        print('cent offset from '+ f + ' is: ', diff)\n",
    "        return f, diff\n",
    "    if len(f) == 3:\n",
    "        diff = find_cent_diff(freq ,pitch_to_frequency.get(f[0:1])[int(f[2])])\n",
    "        print('cent offset from '+ f + ' is: ', diff)\n",
    "        return f, diff\n",
    ""
   ]
  },
  {
   "cell_type": "code",
   "execution_count": 52,
   "metadata": {},
   "outputs": [
    {
     "output_type": "stream",
     "name": "stdout",
     "text": "given hz:  484.46\nclosest pitch is: B4\ncent offset from B4 is:  -33.34\n"
    }
   ],
   "source": [
    "x = offset_from_closest_pitch(A_440_144_octave.get('freq_20'))"
   ]
  },
  {
   "cell_type": "code",
   "execution_count": null,
   "metadata": {},
   "outputs": [],
   "source": [
    "log_b(x) = y "
   ]
  },
  {
   "cell_type": "code",
   "execution_count": null,
   "metadata": {},
   "outputs": [],
   "source": [
    "b**y = x"
   ]
  },
  {
   "cell_type": "code",
   "execution_count": 27,
   "metadata": {},
   "outputs": [
    {
     "output_type": "execute_result",
     "data": {
      "text/plain": "100.00000000000007"
     },
     "metadata": {},
     "execution_count": 27
    }
   ],
   "source": [
    "m2_cents_amnt = (np.log(2**(1/12))/np.log(2))*1200\n",
    "m2_cents_amnt"
   ]
  },
  {
   "cell_type": "code",
   "execution_count": 42,
   "metadata": {},
   "outputs": [
    {
     "output_type": "execute_result",
     "data": {
      "text/plain": "220.0"
     },
     "metadata": {},
     "execution_count": 42
    }
   ],
   "source": [
    "pitch_to_frequency.get('A')[4]*2**-1"
   ]
  },
  {
   "cell_type": "code",
   "execution_count": 29,
   "metadata": {},
   "outputs": [],
   "source": [
    "from wav_table import *"
   ]
  },
  {
   "cell_type": "code",
   "execution_count": 30,
   "metadata": {},
   "outputs": [],
   "source": [
    "A_440 = Hz(pitch_to_frequency.get('A')[4])"
   ]
  },
  {
   "cell_type": "code",
   "execution_count": 31,
   "metadata": {},
   "outputs": [
    {
     "output_type": "execute_result",
     "data": {
      "text/plain": "1760.0"
     },
     "metadata": {},
     "execution_count": 31
    }
   ],
   "source": [
    "pitch_to_frequency.get('A')[4]*2**2"
   ]
  },
  {
   "cell_type": "code",
   "execution_count": 34,
   "metadata": {},
   "outputs": [],
   "source": [
    "ovtser = A_440.make_overtone_series()"
   ]
  },
  {
   "cell_type": "code",
   "execution_count": 35,
   "metadata": {},
   "outputs": [
    {
     "output_type": "stream",
     "name": "stdout",
     "text": "A4\nA5\nE6\nA6\nC#7\nE7\nG7\nA7\nB7\nC#8\nD#8\nE8\nF8\nG8\nG#8\n"
    }
   ],
   "source": [
    "for f in ovtser[1:]:\n",
    "    print(closest_pitch(f))"
   ]
  },
  {
   "cell_type": "code",
   "execution_count": 36,
   "metadata": {},
   "outputs": [
    {
     "output_type": "execute_result",
     "data": {
      "text/plain": "-4"
     },
     "metadata": {},
     "execution_count": 36
    }
   ],
   "source": [
    "4*-1"
   ]
  },
  {
   "cell_type": "code",
   "execution_count": 37,
   "metadata": {},
   "outputs": [
    {
     "output_type": "execute_result",
     "data": {
      "text/plain": "461.7"
     },
     "metadata": {},
     "execution_count": 37
    }
   ],
   "source": [
    "# transpose cents down\n",
    "round(484.46 * 2**(round((-1*83.30618446362892),2)/1200),2)"
   ]
  },
  {
   "cell_type": "code",
   "execution_count": 58,
   "metadata": {},
   "outputs": [
    {
     "output_type": "stream",
     "name": "stdout",
     "text": "given hz:  440.0\nclosest pitch is: A4\ncent offset from A4 is:  0.0\ngiven hz:  442.12\nclosest pitch is: A4\ncent offset from A4 is:  8.32\ngiven hz:  444.26\nclosest pitch is: A4\ncent offset from A4 is:  16.68\ngiven hz:  446.4\nclosest pitch is: A4\ncent offset from A4 is:  25.0\ngiven hz:  448.55\nclosest pitch is: A4\ncent offset from A4 is:  33.32\ngiven hz:  450.72\nclosest pitch is: A4\ncent offset from A4 is:  41.67\ngiven hz:  452.89\nclosest pitch is: A4\ncent offset from A4 is:  49.99\ngiven hz:  455.08\nclosest pitch is: A#4\ncent offset from A#4 is:  58.34\ngiven hz:  457.27\nclosest pitch is: A#4\ncent offset from A#4 is:  66.65\ngiven hz:  459.48\nclosest pitch is: A#4\ncent offset from A#4 is:  75.0\ngiven hz:  461.7\nclosest pitch is: A#4\ncent offset from A#4 is:  83.34\ngiven hz:  463.93\nclosest pitch is: A#4\ncent offset from A#4 is:  91.68\ngiven hz:  466.16\nclosest pitch is: A#4\ncent offset from A#4 is:  99.99\ngiven hz:  468.41\nclosest pitch is: A#4\ncent offset from A#4 is:  108.32\ngiven hz:  470.67\nclosest pitch is: A#4\ncent offset from A#4 is:  116.65\ngiven hz:  472.94\nclosest pitch is: A#4\ncent offset from A#4 is:  124.98\ngiven hz:  475.23\nclosest pitch is: A#4\ncent offset from A#4 is:  133.35\ngiven hz:  477.52\nclosest pitch is: A#4\ncent offset from A#4 is:  141.67\ngiven hz:  479.82\nclosest pitch is: A#4\ncent offset from A#4 is:  149.99\ngiven hz:  482.14\nclosest pitch is: B4\ncent offset from B4 is:  -41.65\ngiven hz:  484.46\nclosest pitch is: B4\ncent offset from B4 is:  -33.34\ngiven hz:  486.8\nclosest pitch is: B4\ncent offset from B4 is:  -25.0\ngiven hz:  489.15\nclosest pitch is: B4\ncent offset from B4 is:  -16.66\ngiven hz:  491.51\nclosest pitch is: B4\ncent offset from B4 is:  -8.33\ngiven hz:  493.88\nclosest pitch is: B4\ncent offset from B4 is:  0.0\ngiven hz:  496.27\nclosest pitch is: B4\ncent offset from B4 is:  8.36\ngiven hz:  498.66\nclosest pitch is: B4\ncent offset from B4 is:  16.68\ngiven hz:  501.07\nclosest pitch is: B4\ncent offset from B4 is:  25.02\ngiven hz:  503.48\nclosest pitch is: B4\ncent offset from B4 is:  33.33\ngiven hz:  505.91\nclosest pitch is: B4\ncent offset from B4 is:  41.66\ngiven hz:  508.36\nclosest pitch is: C5\ncent offset from C5 is:  -49.98\ngiven hz:  510.81\nclosest pitch is: C5\ncent offset from C5 is:  -41.66\ngiven hz:  513.27\nclosest pitch is: C5\ncent offset from C5 is:  -33.34\ngiven hz:  515.75\nclosest pitch is: C5\ncent offset from C5 is:  -24.99\ngiven hz:  518.24\nclosest pitch is: C5\ncent offset from C5 is:  -16.66\ngiven hz:  520.74\nclosest pitch is: C5\ncent offset from C5 is:  -8.32\ngiven hz:  523.25\nclosest pitch is: C5\ncent offset from C5 is:  0.0\ngiven hz:  525.78\nclosest pitch is: C5\ncent offset from C5 is:  8.35\ngiven hz:  528.31\nclosest pitch is: C5\ncent offset from C5 is:  16.66\ngiven hz:  530.86\nclosest pitch is: C5\ncent offset from C5 is:  25.0\ngiven hz:  533.42\nclosest pitch is: C5\ncent offset from C5 is:  33.33\ngiven hz:  536.0\nclosest pitch is: C5\ncent offset from C5 is:  41.68\ngiven hz:  538.58\nclosest pitch is: C5\ncent offset from C5 is:  49.99\ngiven hz:  541.18\nclosest pitch is: C#5\ncent offset from C#5 is:  58.33\ngiven hz:  543.79\nclosest pitch is: C#5\ncent offset from C#5 is:  66.66\ngiven hz:  546.42\nclosest pitch is: C#5\ncent offset from C#5 is:  75.01\ngiven hz:  549.05\nclosest pitch is: C#5\ncent offset from C#5 is:  83.32\ngiven hz:  551.7\nclosest pitch is: C#5\ncent offset from C#5 is:  91.66\ngiven hz:  554.37\nclosest pitch is: C#5\ncent offset from C#5 is:  100.02\ngiven hz:  557.04\nclosest pitch is: C#5\ncent offset from C#5 is:  108.34\ngiven hz:  559.73\nclosest pitch is: C#5\ncent offset from C#5 is:  116.68\ngiven hz:  562.43\nclosest pitch is: C#5\ncent offset from C#5 is:  125.01\ngiven hz:  565.14\nclosest pitch is: C#5\ncent offset from C#5 is:  133.33\ngiven hz:  567.87\nclosest pitch is: C#5\ncent offset from C#5 is:  141.67\ngiven hz:  570.61\nclosest pitch is: D5\ncent offset from D5 is:  -50.0\ngiven hz:  573.36\nclosest pitch is: D5\ncent offset from D5 is:  -41.68\ngiven hz:  576.13\nclosest pitch is: D5\ncent offset from D5 is:  -33.33\ngiven hz:  578.91\nclosest pitch is: D5\ncent offset from D5 is:  -25.0\ngiven hz:  581.7\nclosest pitch is: D5\ncent offset from D5 is:  -16.68\ngiven hz:  584.51\nclosest pitch is: D5\ncent offset from D5 is:  -8.33\ngiven hz:  587.33\nclosest pitch is: D5\ncent offset from D5 is:  0.0\ngiven hz:  590.16\nclosest pitch is: D5\ncent offset from D5 is:  8.32\ngiven hz:  593.01\nclosest pitch is: D5\ncent offset from D5 is:  16.66\ngiven hz:  595.87\nclosest pitch is: D5\ncent offset from D5 is:  24.99\ngiven hz:  598.75\nclosest pitch is: D5\ncent offset from D5 is:  33.34\ngiven hz:  601.64\nclosest pitch is: D5\ncent offset from D5 is:  41.67\ngiven hz:  604.54\nclosest pitch is: D#5\ncent offset from D#5 is:  50.0\ngiven hz:  607.46\nclosest pitch is: D#5\ncent offset from D#5 is:  58.34\ngiven hz:  610.39\nclosest pitch is: D#5\ncent offset from D#5 is:  66.67\ngiven hz:  613.33\nclosest pitch is: D#5\ncent offset from D#5 is:  74.99\ngiven hz:  616.29\nclosest pitch is: D#5\ncent offset from D#5 is:  83.33\ngiven hz:  619.27\nclosest pitch is: D#5\ncent offset from D#5 is:  91.68\ngiven hz:  622.25\nclosest pitch is: D#5\ncent offset from D#5 is:  99.99\ngiven hz:  625.26\nclosest pitch is: D#5\ncent offset from D#5 is:  108.34\ngiven hz:  628.27\nclosest pitch is: D#5\ncent offset from D#5 is:  116.66\ngiven hz:  631.3\nclosest pitch is: D#5\ncent offset from D#5 is:  124.99\ngiven hz:  634.35\nclosest pitch is: D#5\ncent offset from D#5 is:  133.33\ngiven hz:  637.41\nclosest pitch is: D#5\ncent offset from D#5 is:  141.66\ngiven hz:  640.49\nclosest pitch is: E5\ncent offset from E5 is:  -50.01\ngiven hz:  643.58\nclosest pitch is: E5\ncent offset from E5 is:  -41.67\ngiven hz:  646.68\nclosest pitch is: E5\ncent offset from E5 is:  -33.35\ngiven hz:  649.8\nclosest pitch is: E5\ncent offset from E5 is:  -25.02\ngiven hz:  652.94\nclosest pitch is: E5\ncent offset from E5 is:  -16.68\ngiven hz:  656.09\nclosest pitch is: E5\ncent offset from E5 is:  -8.34\ngiven hz:  659.26\nclosest pitch is: E5\ncent offset from E5 is:  0.0\ngiven hz:  662.44\nclosest pitch is: E5\ncent offset from E5 is:  8.33\ngiven hz:  665.63\nclosest pitch is: E5\ncent offset from E5 is:  16.65\ngiven hz:  668.84\nclosest pitch is: E5\ncent offset from E5 is:  24.98\ngiven hz:  672.07\nclosest pitch is: E5\ncent offset from E5 is:  33.32\ngiven hz:  675.31\nclosest pitch is: E5\ncent offset from E5 is:  41.64\ngiven hz:  678.57\nclosest pitch is: E5\ncent offset from E5 is:  49.98\ngiven hz:  681.85\nclosest pitch is: F5\ncent offset from F5 is:  -41.67\ngiven hz:  685.14\nclosest pitch is: F5\ncent offset from F5 is:  -33.33\ngiven hz:  688.44\nclosest pitch is: F5\ncent offset from F5 is:  -25.02\ngiven hz:  691.76\nclosest pitch is: F5\ncent offset from F5 is:  -16.69\ngiven hz:  695.1\nclosest pitch is: F5\ncent offset from F5 is:  -8.35\ngiven hz:  698.46\nclosest pitch is: F5\ncent offset from F5 is:  0.0\ngiven hz:  701.83\nclosest pitch is: F5\ncent offset from F5 is:  8.33\ngiven hz:  705.21\nclosest pitch is: F5\ncent offset from F5 is:  16.65\ngiven hz:  708.62\nclosest pitch is: F5\ncent offset from F5 is:  25.0\ngiven hz:  712.03\nclosest pitch is: F5\ncent offset from F5 is:  33.31\ngiven hz:  715.47\nclosest pitch is: F5\ncent offset from F5 is:  41.66\ngiven hz:  718.92\nclosest pitch is: F5\ncent offset from F5 is:  49.98\ngiven hz:  722.39\nclosest pitch is: F#5\ncent offset from F#5 is:  58.32\ngiven hz:  725.88\nclosest pitch is: F#5\ncent offset from F#5 is:  66.66\ngiven hz:  729.38\nclosest pitch is: F#5\ncent offset from F#5 is:  74.99\ngiven hz:  732.9\nclosest pitch is: F#5\ncent offset from F#5 is:  83.33\ngiven hz:  736.44\nclosest pitch is: F#5\ncent offset from F#5 is:  91.67\ngiven hz:  739.99\nclosest pitch is: F#5\ncent offset from F#5 is:  99.99\ngiven hz:  743.56\nclosest pitch is: F#5\ncent offset from F#5 is:  108.33\ngiven hz:  747.15\nclosest pitch is: F#5\ncent offset from F#5 is:  116.66\ngiven hz:  750.75\nclosest pitch is: F#5\ncent offset from F#5 is:  124.99\ngiven hz:  754.37\nclosest pitch is: F#5\ncent offset from F#5 is:  133.31\ngiven hz:  758.01\nclosest pitch is: F#5\ncent offset from F#5 is:  141.65\ngiven hz:  761.67\nclosest pitch is: F#5\ncent offset from F#5 is:  149.99\ngiven hz:  765.35\nclosest pitch is: G5\ncent offset from G5 is:  -41.66\ngiven hz:  769.04\nclosest pitch is: G5\ncent offset from G5 is:  -33.33\ngiven hz:  772.75\nclosest pitch is: G5\ncent offset from G5 is:  -25.0\ngiven hz:  776.48\nclosest pitch is: G5\ncent offset from G5 is:  -16.66\ngiven hz:  780.23\nclosest pitch is: G5\ncent offset from G5 is:  -8.32\ngiven hz:  783.99\nclosest pitch is: G5\ncent offset from G5 is:  0.0\ngiven hz:  787.77\nclosest pitch is: G5\ncent offset from G5 is:  8.33\ngiven hz:  791.57\nclosest pitch is: G5\ncent offset from G5 is:  16.66\ngiven hz:  795.39\nclosest pitch is: G5\ncent offset from G5 is:  24.99\ngiven hz:  799.23\nclosest pitch is: G5\ncent offset from G5 is:  33.33\ngiven hz:  803.09\nclosest pitch is: G5\ncent offset from G5 is:  41.67\ngiven hz:  806.96\nclosest pitch is: G5\ncent offset from G5 is:  49.99\ngiven hz:  810.86\nclosest pitch is: G#5\ncent offset from G#5 is:  58.34\ngiven hz:  814.77\nclosest pitch is: G#5\ncent offset from G#5 is:  66.67\ngiven hz:  818.7\nclosest pitch is: G#5\ncent offset from G#5 is:  75.0\ngiven hz:  822.65\nclosest pitch is: G#5\ncent offset from G#5 is:  83.33\ngiven hz:  826.62\nclosest pitch is: G#5\ncent offset from G#5 is:  91.67\ngiven hz:  830.61\nclosest pitch is: G#5\ncent offset from G#5 is:  100.0\ngiven hz:  834.62\nclosest pitch is: G#5\ncent offset from G#5 is:  108.34\ngiven hz:  838.64\nclosest pitch is: G#5\ncent offset from G#5 is:  116.66\ngiven hz:  842.69\nclosest pitch is: G#5\ncent offset from G#5 is:  125.0\ngiven hz:  846.76\nclosest pitch is: G#5\ncent offset from G#5 is:  133.34\ngiven hz:  850.84\nclosest pitch is: G#5\ncent offset from G#5 is:  141.66\ngiven hz:  854.95\nclosest pitch is: A5\ncent offset from A5 is:  -50.0\ngiven hz:  859.07\nclosest pitch is: A5\ncent offset from A5 is:  -41.67\ngiven hz:  863.22\nclosest pitch is: A5\ncent offset from A5 is:  -33.33\ngiven hz:  867.38\nclosest pitch is: A5\ncent offset from A5 is:  -25.01\ngiven hz:  871.57\nclosest pitch is: A5\ncent offset from A5 is:  -16.66\ngiven hz:  875.77\nclosest pitch is: A5\ncent offset from A5 is:  -8.34\n"
    }
   ],
   "source": [
    "for k,v in A_440_144_octave.items():\n",
    "    offset_from_closest_pitch(v)"
   ]
  },
  {
   "cell_type": "code",
   "execution_count": null,
   "metadata": {},
   "outputs": [],
   "source": []
  }
 ]
}