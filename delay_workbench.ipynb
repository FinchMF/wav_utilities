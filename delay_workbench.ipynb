{
 "nbformat": 4,
 "nbformat_minor": 2,
 "metadata": {
  "language_info": {
   "name": "python",
   "codemirror_mode": {
    "name": "ipython",
    "version": 3
   },
   "version": "3.7.3-final"
  },
  "orig_nbformat": 2,
  "file_extension": ".py",
  "mimetype": "text/x-python",
  "name": "python",
  "npconvert_exporter": "python",
  "pygments_lexer": "ipython3",
  "version": 3,
  "kernelspec": {
   "name": "python37364bitanaconda3virtualenve0beec8455a449faa64632dc843014f3",
   "display_name": "Python 3.7.3 64-bit ('anaconda3': virtualenv)"
  }
 },
 "cells": [
  {
   "cell_type": "code",
   "execution_count": 3,
   "metadata": {},
   "outputs": [],
   "source": [
    "import wave\n",
    "from audioop import add, mul\n",
    "from warnings import warn"
   ]
  },
  {
   "cell_type": "code",
   "execution_count": 4,
   "metadata": {},
   "outputs": [],
   "source": [
    "def input_wave(filename,frames=10000000): #10000000 is an arbitrary large number of frames\n",
    "    with wave.open(filename,'rb') as wave_file:\n",
    "        params=wave_file.getparams()\n",
    "        audio=wave_file.readframes(frames)  \n",
    "        if params.nchannels!=1:\n",
    "            raise Exception(\"The input audio should be mono for these examples\")\n",
    "    return params, audio\n",
    "\n",
    "#output to file so we can use ipython notebook's Audio widget\n",
    "def output_wave(audio, params, stem, suffix):\n",
    "    #dynamically format the filename by passing in data\n",
    "    filename=stem.replace('.wav','_{}.wav'.format(suffix))\n",
    "    with wave.open(filename,'wb') as wf:\n",
    "        wf.setparams(params)\n",
    "        wf.writeframes(audio)\n",
    "        wf.close()"
   ]
  },
  {
   "cell_type": "code",
   "execution_count": 12,
   "metadata": {},
   "outputs": [],
   "source": [
    "TWDY_params, TWDY_bytes = input_wave('/Volumes/S200408/backup/S190813/Coding/BC_REPO/this-will-destroy-you/chop_wav/wav_0_10_.wav')"
   ]
  },
  {
   "cell_type": "code",
   "execution_count": 22,
   "metadata": {},
   "outputs": [],
   "source": [
    "def delay(audio_bytes,params,offset_ms):\n",
    "    \"\"\"version 1: delay after 'offset_ms' milliseconds\"\"\"\n",
    "    #calculate the number of bytes which corresponds to the offset in milliseconds\n",
    "    offset= params.sampwidth*offset_ms*int(params.framerate/1000)\n",
    "    #create some silence\n",
    "    beginning= b'\\0'*offset\n",
    "    #remove space from the end\n",
    "    end= audio_bytes[:-offset]\n",
    "    return add(audio_bytes, beginning+end, params.sampwidth)\n",
    "\n",
    "\n",
    "\n",
    "\n",
    "#new delay function with factor\n",
    "def delay_2(audio_bytes,params,offset_ms,factor=1):\n",
    "    \"\"\"version 2: delay after 'offset_ms' milliseconds amplified by 'factor'\"\"\"\n",
    "    #calculate the number of bytes which corresponds to the offset in milliseconds\n",
    "    offset= params.sampwidth*offset_ms*int(params.framerate/1000)\n",
    "    #create some silence\n",
    "    beginning= b'\\0'*offset\n",
    "    #remove space from the end\n",
    "    end= audio_bytes[:-offset]\n",
    "    #multiply by the factor\n",
    "    multiplied_end= mul(audio_bytes[:-offset],params.sampwidth,factor)\n",
    "    return add(audio_bytes, beginning+ multiplied_end, params.sampwidth)\n",
    "\n",
    "\n",
    "\n",
    "def delay_3(audio_bytes,params,offset_ms,factor=1,num=1):\n",
    "    \"\"\"version 3: 'num' delays after 'offset_ms' milliseconds amplified by 'factor'\"\"\"\n",
    "    if factor>=1:\n",
    "        warn(\"These settings may produce a very loud audio file. \\\n",
    "             Please use caution when listening\")\n",
    "    #calculate the number of bytes which corresponds to the offset in milliseconds\n",
    "    offset=params.sampwidth*offset_ms*int(params.framerate/1000)\n",
    "    #add extra space at the end for the delays\n",
    "    delayed_bytes=audio_bytes\n",
    "    for i in range(num):\n",
    "        #create some silence\n",
    "        beginning = b'\\0'*offset*(i+1)\n",
    "        #remove space from the end\n",
    "        end = audio_bytes[:-offset*(i+1)]\n",
    "        #multiply by the factor\n",
    "        multiplied_end= mul(end,params.sampwidth,factor**(i+1))\n",
    "        delayed_bytes= add(delayed_bytes, beginning+multiplied_end, params.sampwidth)\n",
    "    return delayed_bytes\n",
    "\n",
    "\n",
    "\n",
    "def delay_4(audio_bytes,params,offset_ms,factor=1,num=1):\n",
    "    \"\"\"version 4: 'num' delays after 'offset_ms' milliseconds amplified by 'factor' \n",
    "    with additional space\"\"\"\n",
    "    if factor>=1:\n",
    "        warn(\"These settings may produce a very loud audio file. \\\n",
    "              Please use caution when listening\")\n",
    "    #calculate the number of bytes which corresponds to the offset in milliseconds\n",
    "    offset=params.sampwidth*offset_ms*int(params.framerate/1000)\n",
    "    #add extra space at the end for the delays\n",
    "    audio_bytes=audio_bytes+b'\\0'*offset*(num)\n",
    "    #create a copy of the original to apply the delays\n",
    "    delayed_bytes=audio_bytes\n",
    "    for i in range(num):\n",
    "        #create some silence\n",
    "        beginning = b'\\0'*offset*(i+1)\n",
    "        #remove space from the end\n",
    "        end = audio_bytes[:-offset*(i+1)]\n",
    "        #multiply by the factor\n",
    "        multiplied_end= mul(end,params.sampwidth,factor**(i+1))\n",
    "        delayed_bytes= add(delayed_bytes, beginning+multiplied_end, params.sampwidth)\n",
    "    return delayed_bytes\n",
    "\n",
    "\n",
    "\n",
    ""
   ]
  },
  {
   "cell_type": "code",
   "execution_count": 26,
   "metadata": {},
   "outputs": [],
   "source": [
    "output_wave(delay(t_bytes, t_params, 250), t_params, 't_0_10.wav', 'delay_250ms')"
   ]
  },
  {
   "cell_type": "code",
   "execution_count": 25,
   "metadata": {},
   "outputs": [],
   "source": [
    "t_params, t_bytes = input_wave('/Volumes/S200408/backup/S190813/Coding/wav_utilities/wav_utilities/test_stretch.wav')\n",
    "output_wave(delay_2(t_bytes, t_params, offset_ms=1000, factor=0.5), t_params, 't_0_10.wav', 'delay_1000ms_0.5f')"
   ]
  },
  {
   "cell_type": "code",
   "execution_count": 29,
   "metadata": {},
   "outputs": [],
   "source": [
    "output_wave(delay_3(t_bytes, t_params, offset_ms=250, factor=0.5, num=11), t_params, 't_0_10.wav', 'delay_250ms_0.5f_11d')"
   ]
  },
  {
   "cell_type": "code",
   "execution_count": 30,
   "metadata": {},
   "outputs": [],
   "source": [
    "output_wave(delay_4(t_bytes, t_params, offset_ms=100, factor=0.5, num=5), t_params, 't_0_10_.wav', 'delay_100ms_0.5f_5d')"
   ]
  },
  {
   "cell_type": "code",
   "execution_count": 1,
   "metadata": {},
   "outputs": [],
   "source": [
    "from delay import *"
   ]
  },
  {
   "cell_type": "code",
   "execution_count": 3,
   "metadata": {},
   "outputs": [],
   "source": [
    "t_params, t_bytes = input_wave('/Volumes/S200408/backup/S190813/Coding/wav_utilities/wav_utilities/test_stretch.wav')\n",
    "output_wave(delay_4(t_bytes, t_params, offset_ms=100, factor=0.5, num=5), t_params, 't_0_10_.wav', 'delay_100ms_0.5f_5d')"
   ]
  },
  {
   "cell_type": "code",
   "execution_count": 4,
   "metadata": {},
   "outputs": [],
   "source": [
    "import reverse"
   ]
  },
  {
   "cell_type": "code",
   "execution_count": 6,
   "metadata": {},
   "outputs": [],
   "source": [
    "wav = '/Volumes/S200408/backup/S190813/Coding/BC_REPO/this-will-destroy-you/chop_wav/wav_0_10_.wav'\n",
    "new_wav = 'R.wav'\n",
    "reverse.reverse(wav, new_wav)"
   ]
  },
  {
   "cell_type": "code",
   "execution_count": 1,
   "metadata": {},
   "outputs": [],
   "source": [
    "import volume"
   ]
  },
  {
   "cell_type": "code",
   "execution_count": 5,
   "metadata": {},
   "outputs": [],
   "source": [
    "wav = '/Volumes/S200408/backup/S190813/Coding/wav_utilities/wav_utilities/R.wav'\n",
    "new_wav = 'louder.wav'\n",
    "volume.adjust_volume(wav, new_wav, 'decrease', 4)"
   ]
  },
  {
   "cell_type": "code",
   "execution_count": 12,
   "metadata": {},
   "outputs": [],
   "source": [
    "from scipy.io.wavfile import read, write\n",
    "from scipy.fftpack import rfft, irfft\n",
    "import numpy as np\n",
    "wav = '/Volumes/S200408/backup/S190813/Coding/wav_utilities/wav_utilities/louder.wav'\n",
    "rate, input = read(wav)\n",
    "transformed = rfft(input) \n",
    "output = irfft(transformed)\n",
    "write('smaller.wav', rate, output.astype(input.dtype))"
   ]
  }
 ]
}