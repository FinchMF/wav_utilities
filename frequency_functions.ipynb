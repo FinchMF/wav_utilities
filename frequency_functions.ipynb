{
 "nbformat": 4,
 "nbformat_minor": 2,
 "metadata": {
  "language_info": {
   "name": "python",
   "codemirror_mode": {
    "name": "ipython",
    "version": 3
   },
   "version": "3.7.3-final"
  },
  "orig_nbformat": 2,
  "file_extension": ".py",
  "mimetype": "text/x-python",
  "name": "python",
  "npconvert_exporter": "python",
  "pygments_lexer": "ipython3",
  "version": 3,
  "kernelspec": {
   "name": "python37364bitanaconda3virtualenve0beec8455a449faa64632dc843014f3",
   "display_name": "Python 3.7.3 64-bit ('anaconda3': virtualenv)"
  }
 },
 "cells": [
  {
   "cell_type": "code",
   "execution_count": 1,
   "metadata": {},
   "outputs": [],
   "source": [
    "from math import log2, pow\n"
   ]
  },
  {
   "cell_type": "code",
   "execution_count": 118,
   "metadata": {},
   "outputs": [],
   "source": [
    "A4 = 440\n",
    "C0 = A4*pow(2, -4.75)\n",
    "name = [\"C\", \"C#\", \"D\", \"D#\", \"E\", \"F\", \"F#\", \"G\", \"G#\", \"A\", \"A#\", \"B\"]\n",
    "    \n",
    "def closest_pitch(freq):\n",
    "    h = round(12*log2(freq/C0))\n",
    "    octave = h // 12\n",
    "    n = h % 12\n",
    "    return name[n] + str(octave)"
   ]
  },
  {
   "cell_type": "code",
   "execution_count": 119,
   "metadata": {},
   "outputs": [
    {
     "data": {
      "text/plain": "'G4'"
     },
     "execution_count": 119,
     "metadata": {},
     "output_type": "execute_result"
    }
   ],
   "source": [
    "closest_pitch(401.92)"
   ]
  },
  {
   "cell_type": "code",
   "execution_count": 4,
   "metadata": {},
   "outputs": [
    {
     "name": "stdout",
     "output_type": "stream",
     "text": "README.md                  raw_square.wav\n\u001b[34m__pycache__\u001b[m\u001b[m/               raw_square_0.8.wav\nfrequency_functions.ipynb  simple_440.0_sawtooth.wav\nmod_440.0_saw.wav          simple_440.0_sin.wav\nmod_440.0_sin.wav          simple_440.0_square.wav\nmod_440.0_sq.wav           simple_sawtooth.wav\nmod_saw.wav                simple_sin.wav\nmod_sin.wav                simple_square.wav\nmod_sq.wav                 wav_functions.py\npitch_frequencies.py       wav_table.py\nraw_sawtooth.wav           waves.ipynb\nraw_sine.wav\n"
    }
   ],
   "source": [
    "ls"
   ]
  },
  {
   "cell_type": "code",
   "execution_count": 5,
   "metadata": {},
   "outputs": [],
   "source": [
    "# layer two audio files to make interval or texture\n",
    "import wave\n",
    "import numpy as np\n",
    "# load two files you'd like to mix\n",
    "fnames =[\"simple_440.0_square.wav\", \"simple_440.0_sin.wav\"]\n",
    "wavs = [wave.open(fn) for fn in fnames]\n",
    "frames = [w.readframes(w.getnframes()) for w in wavs]\n",
    "# here's efficient numpy conversion of the raw byte buffers\n",
    "# '<i2' is a little-endian two-byte integer.\n",
    "samples = [np.frombuffer(f, dtype='<i2') for f in frames]\n",
    "samples = [samp.astype(np.float64) for samp in samples]\n",
    "# mix as much as possible\n",
    "n = min(map(len, samples))\n",
    "mix = samples[0][:n] + samples[1][:n]\n",
    "# Save the result\n",
    "mix_wav = wave.open(\"new_wav.wav\", 'w')\n",
    "mix_wav.setparams(wavs[0].getparams())\n",
    "# before saving, we want to convert back to '<i2' bytes:\n",
    "mix_wav.writeframes(mix.astype('<i2').tobytes())\n",
    "mix_wav.close()"
   ]
  },
  {
   "cell_type": "code",
   "execution_count": 46,
   "metadata": {},
   "outputs": [],
   "source": [
    "# concatenate two audio files to make \n",
    "import wave\n",
    "\n",
    "infiles = [\"simple_440.0_square.wav\", \"simple_440.0_square.wav\"]\n",
    "outfile = \"sounds.wav\"\n",
    "\n",
    "data= []\n",
    "for infile in infiles:\n",
    "    w = wave.open(infile, 'rb')\n",
    "    data.append( [w.getparams(), w.readframes(w.getnframes())] )\n",
    "    w.close()\n",
    "\n",
    "output = wave.open(outfile, 'wb')\n",
    "output.setparams(data[0][0])\n",
    "output.writeframes(data[0][1])\n",
    "output.writeframes(data[1][1])\n",
    "output.close()"
   ]
  },
  {
   "cell_type": "code",
   "execution_count": 47,
   "metadata": {},
   "outputs": [
    {
     "name": "stdout",
     "output_type": "stream",
     "text": "README.md                  raw_square.wav\n\u001b[34m__pycache__\u001b[m\u001b[m/               raw_square_0.8.wav\nfrequency_functions.ipynb  simple_440.0_sawtooth.wav\nmod_440.0_saw.wav          simple_440.0_sin.wav\nmod_440.0_sin.wav          simple_440.0_square.wav\nmod_440.0_sq.wav           simple_sawtooth.wav\nmod_saw.wav                simple_sin.wav\nmod_sin.wav                simple_square.wav\nmod_sq.wav                 sounds.wav\nnew_wav.wav                wav_functions.py\npitch_frequencies.py       wav_table.py\nraw_sawtooth.wav           waves.ipynb\nraw_sine.wav\n"
    }
   ],
   "source": [
    "ls"
   ]
  },
  {
   "cell_type": "code",
   "execution_count": 66,
   "metadata": {},
   "outputs": [
    {
     "name": "stdout",
     "output_type": "stream",
     "text": "1157 digits of pi:\n 3.14159265358979323846264338327950288419716939937510582097494459230781640628620899862803482534211706798214808651328230664709384460955058223172535940812848111745028410270193852110555964462294895493038196442881097566593344612847564823378678316527120190914564856692346034861045432664821339360726024914127372458700660631558817488152092096282925409171536436789259036001133053054882046652138414695194151160943305727036575959195309218611738193261179310511854807446237996274956735188575272489122793818301194912983367336244065664308602139494639522473719070217986094370277053921717629317675238467481846766940513200056812714526356082778577134275778960917363717872146844090122495343014654958537105079227968925892354201995611212902196086403441815981362977477130996051870721134999999837297804995105973173281609631859502445945534690830264252230825334468503526193118817101000313783875288658753320838142061717766914730359825349042875546873115956286388235378759375195778185778053217122680661300192787661119590921642019893809525720106548586327886593615338182796823030195203530185296899577362259941389124972177528347913151557485724245415069595082953311686172785588907509838175463\n"
    }
   ],
   "source": [
    "# generate pi\n",
    "def make_pi():\n",
    "    q, r, t, k, m, x = 1, 0, 1, 1, 3, 3\n",
    "    for j in range(5000):\n",
    "        if 4 * q + r - t < m * t:\n",
    "            yield m\n",
    "            q, r, t, k, m, x = 10*q, 10*(r-m*t), t, k, (10*(3*q+r))//t - 10*m, x\n",
    "        else:\n",
    "            q, r, t, k, m, x = q*k, (2*q+r)*x, t*x, k+1, (q*(7*k+2)+r*x)//(t*x), x+2\n",
    "\n",
    "\n",
    "digits_of_pi = []\n",
    "\n",
    "for i in make_pi():\n",
    "    digits_of_pi.append(str(i))\n",
    "\n",
    "pi_digits = digits_of_pi[:1] + ['.'] + digits_of_pi[1:]\n",
    "pi_string = \"\".join(pi_digits)\n",
    "print(str(len(pi_string) - 2 ) + ' digits of pi:\\n %s' % pi_string)"
   ]
  },
  {
   "cell_type": "code",
   "execution_count": 54,
   "metadata": {},
   "outputs": [
    {
     "data": {
      "text/plain": "1159"
     },
     "execution_count": 54,
     "metadata": {},
     "output_type": "execute_result"
    }
   ],
   "source": [
    "len(pi_string)"
   ]
  },
  {
   "cell_type": "code",
   "execution_count": 69,
   "metadata": {},
   "outputs": [
    {
     "data": {
      "text/plain": "3.14"
     },
     "execution_count": 69,
     "metadata": {},
     "output_type": "execute_result"
    }
   ],
   "source": [
    "# grab the first 6 digits to make frequency\n",
    "pi = float(pi_string[:4])\n",
    "pi"
   ]
  },
  {
   "cell_type": "code",
   "execution_count": 18,
   "metadata": {},
   "outputs": [],
   "source": [
    "pi_ = {}"
   ]
  },
  {
   "cell_type": "code",
   "execution_count": 70,
   "metadata": {},
   "outputs": [
    {
     "data": {
      "text/plain": "[3.14,\n 6.28,\n 12.56,\n 25.12,\n 50.24,\n 100.48,\n 200.96,\n 401.92,\n 803.84,\n 1607.68,\n 3215.36,\n 6430.72]"
     },
     "execution_count": 70,
     "metadata": {},
     "output_type": "execute_result"
    }
   ],
   "source": [
    "def make_octaves(freq):\n",
    "     freq_list = []\n",
    "     freq_list.append(freq)\n",
    "     oct_1 = freq * 2\n",
    "     freq_list.append(oct_1)\n",
    "     oct_2 = oct_1 * 2\n",
    "     freq_list.append(oct_2) \n",
    "     oct_3 = oct_2 * 2\n",
    "     freq_list.append(oct_3) \n",
    "     oct_4 = oct_3 * 2 \n",
    "     freq_list.append(oct_4)\n",
    "     oct_5 = oct_4 * 2\n",
    "     freq_list.append(oct_5)\n",
    "     oct_6 = oct_5 * 2\n",
    "     freq_list.append(oct_6)\n",
    "     oct_7 = oct_6 * 2\n",
    "     freq_list.append(oct_7)\n",
    "     oct_8 = oct_7 * 2\n",
    "     freq_list.append(oct_8)\n",
    "     oct_9 = oct_8 * 2\n",
    "     freq_list.append(oct_9)\n",
    "     oct_10 = oct_9 * 2\n",
    "     freq_list.append(oct_10)\n",
    "     oct_11 = oct_10 * 2\n",
    "     freq_list.append(oct_11)\n",
    "     return freq_list\n",
    "\n",
    "\n",
    "        \n",
    "make_octaves(pi)"
   ]
  },
  {
   "cell_type": "code",
   "execution_count": 113,
   "metadata": {},
   "outputs": [],
   "source": [
    "pi_octaves = make_octaves(pi)\n",
    "octaves = range(-3,9)\n",
    "\n",
    "pi_dict = dict(zip(octaves, pi_octaves))\n",
    "\n"
   ]
  },
  {
   "cell_type": "code",
   "execution_count": 115,
   "metadata": {},
   "outputs": [
    {
     "data": {
      "text/plain": "3.14"
     },
     "execution_count": 115,
     "metadata": {},
     "output_type": "execute_result"
    }
   ],
   "source": [
    "pi_dict.get(-3)"
   ]
  },
  {
   "cell_type": "code",
   "execution_count": 91,
   "metadata": {},
   "outputs": [],
   "source": [
    "def make_overtone_series(freq, length):\n",
    "    overtone_series = []\n",
    "    for i in length:\n",
    "        harmonic = i * freq\n",
    "        overtone_series.append(harmonic)\n",
    "    return overtone_series\n"
   ]
  },
  {
   "cell_type": "code",
   "execution_count": 108,
   "metadata": {},
   "outputs": [],
   "source": [
    "pi_overtone = make_overtone_series(pi, range(0,16))"
   ]
  },
  {
   "cell_type": "code",
   "execution_count": 109,
   "metadata": {},
   "outputs": [
    {
     "name": "stdout",
     "output_type": "stream",
     "text": "0.0\n188.4\n376.8\n565.2\n753.6\n942.0000000000001\n1130.4\n1318.8\n1507.2\n1695.6000000000001\n1884.0000000000002\n2072.4\n2260.8\n2449.2\n2637.6\n2826.0\n"
    }
   ],
   "source": [
    "for f in pi_overtone:\n",
    "     print(f * 60)"
   ]
  },
  {
   "cell_type": "code",
   "execution_count": 85,
   "metadata": {},
   "outputs": [
    {
     "data": {
      "text/plain": "[3.14,\n 6.28,\n 9.42,\n 12.56,\n 15.700000000000001,\n 18.84,\n 21.98,\n 25.12,\n 28.26,\n 31.400000000000002,\n 34.54,\n 37.68,\n 40.82,\n 43.96,\n 47.1,\n 50.24,\n 53.38,\n 56.52,\n 59.660000000000004,\n 62.800000000000004,\n 65.94,\n 69.08,\n 72.22,\n 75.36,\n 78.5,\n 81.64,\n 84.78,\n 87.92,\n 91.06,\n 94.2,\n 97.34,\n 100.48,\n 103.62,\n 106.76,\n 109.9,\n 113.04,\n 116.18,\n 119.32000000000001,\n 122.46000000000001,\n 125.60000000000001,\n 128.74,\n 131.88,\n 135.02,\n 138.16,\n 141.3,\n 144.44,\n 147.58,\n 150.72,\n 153.86,\n 157.0,\n 160.14000000000001,\n 163.28,\n 166.42000000000002,\n 169.56,\n 172.70000000000002,\n 175.84,\n 178.98000000000002,\n 182.12,\n 185.26000000000002,\n 188.4,\n 191.54000000000002,\n 194.68,\n 197.82000000000002]"
     },
     "execution_count": 85,
     "metadata": {},
     "output_type": "execute_result"
    }
   ],
   "source": [
    "def make_overtone_series_1(freq):\n",
    "    overtone_series = []\n",
    "    overtone_series.append(freq)\n",
    "    harmonic_1 = freq * 2\n",
    "    overtone_series.append(harmonic_1)\n",
    "    harmonic_2 = freq * 3\n",
    "    overtone_series.append(harmonic_2)\n",
    "    harmonic_3 = freq * 4 \n",
    "    overtone_series.append(harmonic_3)\n",
    "    harmonic_4 = freq * 5\n",
    "    overtone_series.append(harmonic_4)\n",
    "    harmonic_5 = freq * 6 \n",
    "    overtone_series.append(harmonic_5)\n",
    "    harmonic_6 = freq * 7\n",
    "    overtone_series.append(harmonic_6)\n",
    "    harmonic_7 = freq * 8 \n",
    "    overtone_series.append(harmonic_7)\n",
    "    harmonic_8 = freq * 9 \n",
    "    overtone_series.append(harmonic_8)\n",
    "    harmonic_9 = freq * 10\n",
    "    overtone_series.append(harmonic_9)\n",
    "    harmonic_10 = freq * 11\n",
    "    overtone_series.append(harmonic_10)\n",
    "    harmonic_11 = freq * 12\n",
    "    overtone_series.append(harmonic_11)\n",
    "    harmonic_12 = freq * 13\n",
    "    overtone_series.append(harmonic_12)\n",
    "    harmonic_13 = freq * 14\n",
    "    overtone_series.append(harmonic_13)\n",
    "    harmonic_14 = freq * 15\n",
    "    overtone_series.append(harmonic_14)\n",
    "    harmonic_15 = freq * 16\n",
    "    overtone_series.append(harmonic_15)\n",
    "    harmonic_16 = freq * 17\n",
    "    overtone_series.append(harmonic_16)\n",
    "    harmonic_17 = freq * 18\n",
    "    overtone_series.append(harmonic_17)\n",
    "    harmonic_18 = freq * 19\n",
    "    overtone_series.append(harmonic_18)\n",
    "    harmonic_19 = freq * 20\n",
    "    overtone_series.append(harmonic_19)\n",
    "    harmonic_20 = freq * 21\n",
    "    overtone_series.append(harmonic_20)\n",
    "    harmonic_21 = freq * 22\n",
    "    overtone_series.append(harmonic_21)\n",
    "    harmonic_22 = freq * 23\n",
    "    overtone_series.append(harmonic_22)\n",
    "    harmonic_23 = freq * 24\n",
    "    overtone_series.append(harmonic_23)\n",
    "    harmonic_24 = freq * 25\n",
    "    overtone_series.append(harmonic_24)\n",
    "    harmonic_25 = freq * 26 \n",
    "    overtone_series.append(harmonic_25)\n",
    "    harmonic_26 = freq * 27\n",
    "    overtone_series.append(harmonic_26)\n",
    "    harmonic_27 = freq * 28\n",
    "    overtone_series.append(harmonic_27)\n",
    "    harmonic_28 = freq * 29\n",
    "    overtone_series.append(harmonic_28)\n",
    "    harmonic_29 = freq * 30\n",
    "    overtone_series.append(harmonic_29)\n",
    "    harmonic_30 = freq * 31\n",
    "    overtone_series.append(harmonic_30)\n",
    "    harmonic_31 = freq * 32\n",
    "    overtone_series.append(harmonic_31)\n",
    "    harmonic_32 = freq * 33\n",
    "    overtone_series.append(harmonic_32)\n",
    "    harmonic_33 = freq * 34\n",
    "    overtone_series.append(harmonic_33)\n",
    "    harmonic_34 = freq * 35 \n",
    "    overtone_series.append(harmonic_34)\n",
    "    harmonic_35 = freq * 36\n",
    "    overtone_series.append(harmonic_35)\n",
    "    harmonic_36 = freq * 37 \n",
    "    overtone_series.append(harmonic_36)\n",
    "    harmonic_37 = freq * 38\n",
    "    overtone_series.append(harmonic_37)\n",
    "    harmonic_38 = freq * 39 \n",
    "    overtone_series.append(harmonic_38)\n",
    "    harmonic_39 = freq * 40 \n",
    "    overtone_series.append(harmonic_39)\n",
    "    harmonic_40 = freq * 41\n",
    "    overtone_series.append(harmonic_40)\n",
    "    harmonic_41 = freq * 42\n",
    "    overtone_series.append(harmonic_41)\n",
    "    harmonic_42 = freq * 43\n",
    "    overtone_series.append(harmonic_42)\n",
    "    harmonic_43 = freq * 44\n",
    "    overtone_series.append(harmonic_43)\n",
    "    harmonic_44 = freq * 45\n",
    "    overtone_series.append(harmonic_44)\n",
    "    harmonic_45 = freq * 46\n",
    "    overtone_series.append(harmonic_45)\n",
    "    harmonic_46 = freq * 47\n",
    "    overtone_series.append(harmonic_46)\n",
    "    harmonic_47 = freq * 48\n",
    "    overtone_series.append(harmonic_47)\n",
    "    harmonic_48 = freq * 49\n",
    "    overtone_series.append(harmonic_48)\n",
    "    harmonic_49 = freq * 50\n",
    "    overtone_series.append(harmonic_49)\n",
    "    harmonic_50 = freq * 51\n",
    "    overtone_series.append(harmonic_50)\n",
    "    harmonic_51 = freq * 52\n",
    "    overtone_series.append(harmonic_51)\n",
    "    harmonic_52 = freq * 53\n",
    "    overtone_series.append(harmonic_52)\n",
    "    harmonic_53 = freq * 54\n",
    "    overtone_series.append(harmonic_53)\n",
    "    harmonic_54 = freq * 55\n",
    "    overtone_series.append(harmonic_54)\n",
    "    harmonic_55 = freq * 56\n",
    "    overtone_series.append(harmonic_55)\n",
    "    harmonic_56 = freq * 57 \n",
    "    overtone_series.append(harmonic_56)\n",
    "    harmonic_57 = freq * 58\n",
    "    overtone_series.append(harmonic_57)\n",
    "    harmonic_58 = freq * 59\n",
    "    overtone_series.append(harmonic_58)\n",
    "    harmonic_59 = freq * 60\n",
    "    overtone_series.append(harmonic_59)\n",
    "    harmonic_60 = freq * 61\n",
    "    overtone_series.append(harmonic_60)\n",
    "    harmonic_61 = freq * 62\n",
    "    overtone_series.append(harmonic_61)\n",
    "    harmonic_62 = freq * 63\n",
    "    overtone_series.append(harmonic_62)\n",
    "\n",
    "    return overtone_series\n",
    "\n",
    "make_overtone_series_1(pi)\n"
   ]
  }
 ]
}