{
 "nbformat": 4,
 "nbformat_minor": 2,
 "metadata": {
  "language_info": {
   "name": "python",
   "codemirror_mode": {
    "name": "ipython",
    "version": 3
   },
   "version": "3.7.3-final"
  },
  "orig_nbformat": 2,
  "file_extension": ".py",
  "mimetype": "text/x-python",
  "name": "python",
  "npconvert_exporter": "python",
  "pygments_lexer": "ipython3",
  "version": 3,
  "kernelspec": {
   "name": "python37364bitanaconda3virtualenve0beec8455a449faa64632dc843014f3",
   "display_name": "Python 3.7.3 64-bit ('anaconda3': virtualenv)"
  }
 },
 "cells": [
  {
   "cell_type": "code",
   "execution_count": 1,
   "metadata": {},
   "outputs": [],
   "source": [
    "from freq_table import *"
   ]
  },
  {
   "cell_type": "markdown",
   "metadata": {},
   "source": [
    "## Navigating Octave Instances of a Pitch"
   ]
  },
  {
   "cell_type": "code",
   "execution_count": 2,
   "metadata": {},
   "outputs": [
    {
     "output_type": "stream",
     "name": "stdout",
     "text": "220.0 Hz\n440.0 Hz\n880.0 Hz\n"
    }
   ],
   "source": [
    "# pitch_to_frequency is a dictionary i built that has all frequencies for each pitch on the western system. \n",
    "# by calling the pitch name and the ocatve the pitch is in, you get the frequency it represents - the return is an int\n",
    "\n",
    "# here is an example of me calling the three instances of A in octaves 3 - 5\n",
    "print(str(pitch_to_frequency.get('A')[3]) + ' Hz')\n",
    "print(str(pitch_to_frequency.get('A')[4]) + ' Hz')\n",
    "print(str(pitch_to_frequency.get('A')[5]) + ' Hz')"
   ]
  },
  {
   "cell_type": "code",
   "execution_count": 3,
   "metadata": {},
   "outputs": [
    {
     "output_type": "stream",
     "name": "stdout",
     "text": "880.0 Hz is one octave above 440.0 Hz\n---------------440-------------------\n220.0 Hz is one octave below 440.0 Hz\n"
    }
   ],
   "source": [
    "# here we see that a single octave is a representation of a number of intervals between the two frequencies\n",
    "one_octave = semitone_intervals.get('P8')\n",
    "# here we see that A4 is a representation of the frequency 440 Hz\n",
    "A_4 = pitch_to_frequency.get('A')[4]\n",
    "\n",
    "# here is intervallic relationship between octaves\n",
    "print(str(A_4 * one_octave) + ' Hz' + ' is one octave above ' + str(A_4) + ' Hz')\n",
    "print('---------------440-------------------')\n",
    "print(str(A_4 / one_octave) + ' Hz' + ' is one octave below ' + str(A_4) + ' Hz')"
   ]
  },
  {
   "cell_type": "code",
   "execution_count": 4,
   "metadata": {},
   "outputs": [
    {
     "output_type": "stream",
     "name": "stdout",
     "text": "880.0 Hz\n"
    }
   ],
   "source": [
    "# and if we want to start at 220 Hz (A3) and move up two octaves, we can see that we arrive at 880 (A5)\n",
    "\n",
    "# setting A3\n",
    "A_3 = pitch_to_frequency.get('A')[3]\n",
    "# moving up two octaves\n",
    "print(str(A_3 * (one_octave * 2)) + ' Hz')"
   ]
  },
  {
   "cell_type": "code",
   "execution_count": 5,
   "metadata": {},
   "outputs": [
    {
     "output_type": "stream",
     "name": "stdout",
     "text": "13.75 Hz\n27.5 Hz\n55.0 Hz\n110.0 Hz\n220.0 Hz\n440.0 Hz\n880.0 Hz\n1760.0 Hz\n3520.0 Hz\n7040.0 Hz\n"
    }
   ],
   "source": [
    "# to see all octave instances of A\n",
    "for octaves, hz in pitch_to_frequency.get('A').items():\n",
    "        print(str(hz) + ' Hz')"
   ]
  },
  {
   "cell_type": "markdown",
   "metadata": {},
   "source": [
    "### But What is an Octave?"
   ]
  },
  {
   "cell_type": "code",
   "execution_count": 6,
   "metadata": {},
   "outputs": [
    {
     "output_type": "stream",
     "name": "stdout",
     "text": "2\n"
    }
   ],
   "source": [
    "# An Octave is another symbolic representation. Lets see what the octave actually is...\n",
    "print(int(one_octave))"
   ]
  },
  {
   "cell_type": "markdown",
   "metadata": {},
   "source": [
    "We can see that the octave is the factor of 2. As mentioned earlier, the octave above is doubling the current frequency; and the octave below is a half of the current frequency.\n",
    "\n",
    "Lets look at what other intervals might be. "
   ]
  },
  {
   "cell_type": "code",
   "execution_count": 7,
   "metadata": {},
   "outputs": [
    {
     "output_type": "stream",
     "name": "stdout",
     "text": "1.0594630943592953\n"
    }
   ],
   "source": [
    "# the minor second interval\n",
    "minor_second = semitone_intervals.get('m2')\n",
    "print(minor_second)"
   ]
  },
  {
   "cell_type": "code",
   "execution_count": 8,
   "metadata": {},
   "outputs": [
    {
     "output_type": "stream",
     "name": "stdout",
     "text": "2\n"
    }
   ],
   "source": [
    "# take the factor of the minor second interval and raise it to the power of 12 and we get the factor of an octave\n",
    "print(int(minor_second**12))"
   ]
  },
  {
   "cell_type": "markdown",
   "metadata": {},
   "source": [
    "Why does this work, and what does it mean? Since an Octave is doubling of the current frequency and the western system divides each octave into twelve parts, when you take the minimum interval within an octave and raise it to the twelveth power, you reach the distance of an Octave. \n",
    "\n",
    "We'll see later how creative we can be with this logic"
   ]
  },
  {
   "cell_type": "code",
   "execution_count": 71,
   "metadata": {},
   "outputs": [
    {
     "output_type": "stream",
     "name": "stdout",
     "text": "An octave in the instance of A4 is: 440.0 Hz\nA minor second between an instance of A4: 26.16 Hz\n"
    }
   ],
   "source": [
    "# but before we do that lets look at what the actual distance of a minor second and octave are in the terms of frequency A4\n",
    "\n",
    "print('An octave in the instance of A4 is: ' + str(distance_of_interval(A_4, one_octave)) + ' Hz')\n",
    "print('A minor second between an instance of A4: ' + str(distance_of_interval(A_4, minor_second)) + ' Hz')"
   ]
  },
  {
   "cell_type": "code",
   "execution_count": 69,
   "metadata": {},
   "outputs": [
    {
     "output_type": "stream",
     "name": "stdout",
     "text": "An octave from an instance of C1 is: 32.7 Hz\nA minor second from an istance of C1 is: 1.94 Hz\n\n\nAn octave from instance of F#6 is: 1479.98 Hz\nA minor second from an instanc of F#6 is: 88.0 Hz\n\n\nAn octave from the instance of G4 is: 392.0 Hz\nA minor second from the instanceof G4 is: 23.31 Hz\n"
    }
   ],
   "source": [
    "# here is something interesting, lets look at multiple pitch names\n",
    "# each octave is perceived as the same range (a doubling of a given frequency) and each octave in the western system in divided into twelve units. But the distance in terms of frequency is unique and different, yet abstracted into the same categorical titles\n",
    "C_1 = pitch_to_frequency.get('C')[1]\n",
    "F_Sharp_6 = pitch_to_frequency.get('F#')[6]\n",
    "G_4 = pitch_to_frequency.get('G')[4]\n",
    "print('An octave from an instance of C1 is: ' + str(distance_of_interval(C_1, one_octave)) + ' Hz')\n",
    "print('A minor second from an istance of C1 is: ' + str(distance_of_interval(C_1, minor_second)) + ' Hz')\n",
    "print('\\n')\n",
    "print('An octave from instance of F#6 is: ' + str(distance_of_interval(F_Sharp_6, one_octave)) + ' Hz')\n",
    "print('A minor second from an instanc of F#6 is: ' + str(distance_of_interval(F_Sharp_6, minor_second)) + ' Hz')\n",
    "print('\\n')\n",
    "print('An octave from the instance of G4 is: ' + str(distance_of_interval(G_4, one_octave)) + ' Hz')\n",
    "print('A minor second from the instanceof G4 is: ' + str(distance_of_interval(G_4, minor_second)) + ' Hz')"
   ]
  },
  {
   "cell_type": "code",
   "execution_count": 70,
   "metadata": {},
   "outputs": [
    {
     "output_type": "stream",
     "name": "stdout",
     "text": "A minor second from the istance of G6 is: 93.24 Hz\nA minor second from the instnce of F#6 is: 88.0 Hz\n"
    }
   ],
   "source": [
    "# even more interestingly, lets look at instances of pitches in the same octave\n",
    "G_6 = pitch_to_frequency.get('G')[6]\n",
    "print('A minor second from the istance of G6 is: ' + str(distance_of_interval(G_6, minor_second)) + ' Hz')\n",
    "print('A minor second from the instnce of F#6 is: ' + str(distance_of_interval(F_Sharp_6, minor_second)) + ' Hz')"
   ]
  },
  {
   "cell_type": "code",
   "execution_count": 67,
   "metadata": {},
   "outputs": [
    {
     "output_type": "stream",
     "name": "stdout",
     "text": "The distance between G6 and A6 is: 1760.0 Hz\nThe distance between F#6 and A6 is: 1760.0 Hz\n"
    }
   ],
   "source": [
    "# however, when figuring the distance between two different notes leading to the same note\n",
    "print('The distance between G6 and A6 is: ' + str(round(G_6 * semitone_intervals.get('M2'), 2)) + ' Hz')\n",
    "print('The distance between F#6 and A6 is: ' + str(round(F_Sharp_6 * semitone_intervals.get('m3'), 2)) + ' Hz')\n",
    ""
   ]
  },
  {
   "cell_type": "code",
   "execution_count": 77,
   "metadata": {},
   "outputs": [
    {
     "output_type": "stream",
     "name": "stdout",
     "text": "1.0594630943592953 is the factor of multiplication needed to achieve an accurate interval of a minor second between any given pitch\n"
    }
   ],
   "source": [
    "#  The factor of a minor second is constant though\n",
    "print(str(minor_second) + ' is the factor of multiplication needed to achieve an accurate interval of a minor second between any given pitch')"
   ]
  },
  {
   "cell_type": "code",
   "execution_count": 94,
   "metadata": {},
   "outputs": [
    {
     "output_type": "stream",
     "name": "stdout",
     "text": "The result of A3 up an minor second is: 233.08 Hz\nA#4 is: 233.08 Hz\n"
    }
   ],
   "source": [
    "# here is A3 against the factor of a minor second (which should lead to A4)\n",
    "print('The result of A3 up an minor second is: ' + str(round(float(A_3 * minor_second),2)) + ' Hz')\n",
    "# here us a the frequency of A4\n",
    "print('A#4 is: ' + str(pitch_to_frequency.get('A#')[3]) + ' Hz')"
   ]
  },
  {
   "cell_type": "markdown",
   "metadata": {},
   "source": [
    "So how do we get to this factor that abstractly represents the distance of a minor second, even though every minor second seems to hold a different value dependent on the pitch it is starting from?"
   ]
  },
  {
   "cell_type": "code",
   "execution_count": 90,
   "metadata": {},
   "outputs": [
    {
     "output_type": "execute_result",
     "data": {
      "text/plain": "1.0594630943592953"
     },
     "metadata": {},
     "execution_count": 90
    }
   ],
   "source": [
    "# this is the code 'minor second' variable represents\n",
    "semitone_intervals.get('m2')"
   ]
  },
  {
   "cell_type": "markdown",
   "metadata": {},
   "source": [
    "### What is the Semitone interval dictionary?"
   ]
  },
  {
   "cell_type": "code",
   "execution_count": 97,
   "metadata": {},
   "outputs": [
    {
     "output_type": "stream",
     "name": "stdout",
     "text": "The interval: m2 is the factor 1.0594630943592953\nThe interval: M2 is the factor 1.122462048309373\nThe interval: m3 is the factor 1.189207115002721\nThe interval: M3 is the factor 1.2599210498948732\nThe interval: P4 is the factor 1.3348398541700344\nThe interval: d5 is the factor 1.414213562373095\nThe interval: P5 is the factor 1.4983070768766815\nThe interval: m6 is the factor 1.5874010519681994\nThe interval: M6 is the factor 1.681792830507429\nThe interval: m7 is the factor 1.7817974362806785\nThe interval: M7 is the factor 1.8877486253633868\nThe interval: P8 is the factor 2.0\n"
    }
   ],
   "source": [
    "# each interval has a factor representation. \n",
    "for interval, factor in semitone_intervals.items():\n",
    "    print('The interval: ' + str(interval) + ' is the factor ' + str(factor))\n",
    ""
   ]
  },
  {
   "cell_type": "markdown",
   "metadata": {},
   "source": [
    "The western music system is a mathematical division of the octave. These divisions are transposable through any octave, were intervals are factors of seperation but are not themselves the actual distance. "
   ]
  },
  {
   "cell_type": "code",
   "execution_count": null,
   "metadata": {},
   "outputs": [],
   "source": []
  },
  {
   "cell_type": "code",
   "execution_count": null,
   "metadata": {},
   "outputs": [],
   "source": []
  }
 ]
}